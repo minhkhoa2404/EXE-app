{
 "cells": [
  {
   "cell_type": "code",
   "execution_count": 1,
   "metadata": {},
   "outputs": [],
   "source": [
    "import pandas as pd"
   ]
  },
  {
   "cell_type": "code",
   "execution_count": 2,
   "metadata": {},
   "outputs": [],
   "source": [
    "class Recommender:\n",
    "    df_dry: pd.DataFrame\n",
    "    df_normal: pd.DataFrame\n",
    "    df_oily: pd.DataFrame\n",
    "    def __init__(self) -> None:\n",
    "        pass\n",
    "    \n",
    "    def load_dataset(self, path:str) -> pd.DataFrame:\n",
    "        return pd.read_csv(path)\n",
    "    \n",
    "    def make_dataset(self, df:pd.DataFrame) -> None:\n",
    "        self.df_dry = df[df[\"skin_type\"].astype(str).str.contains(\"Dry\")]\n",
    "        self.df_normal = df[df[\"skin_type\"].astype(str).str.contains(\"Normal\")]\n",
    "        self.df_oily = df[df[\"skin_type\"].astype(str).str.contains(\"Oily\")]\n",
    "        \n",
    "    def recommend_products(self, num_of_acne: int, skin_type: str) -> dict:\n",
    "        if num_of_acne <= 5:\n",
    "            if skin_type == \"Normal\":\n",
    "                product_names = self.df_normal[\"name\"].iloc[:90].sample(4, random_state=15)\n",
    "            elif skin_type == \"Dry\":\n",
    "                product_names = self.df_dry[\"name\"].iloc[:90].sample(4, random_state=15)\n",
    "            elif skin_type == \"Oily\":\n",
    "                product_names = self.df_oily[\"name\"].iloc[:90].sample(4, random_state=15)\n",
    "        elif num_of_acne > 5 and num_of_acne <= 10:\n",
    "            if skin_type == \"Normal\":\n",
    "                product_names = self.df_normal[\"name\"].iloc[90:200].sample(4, random_state=15)\n",
    "            elif skin_type == \"Dry\":\n",
    "                product_names = self.df_dry[\"name\"].iloc[90:200].sample(4, random_state=15)\n",
    "            elif skin_type == \"Oily\":\n",
    "                product_names = self.df_oily[\"name\"].iloc[90:200].sample(4, random_state=15)\n",
    "        else:\n",
    "            if skin_type == \"Normal\":\n",
    "                product_names = self.df_normal[\"name\"].iloc[200:].sample(4, random_state=15)\n",
    "            elif skin_type == \"Dry\":\n",
    "                product_names = self.df_dry[\"name\"].iloc[200:].sample(4, random_state=15)\n",
    "            elif skin_type == \"Oily\":\n",
    "                product_names = self.df_oily[\"name\"].iloc[200:].sample(4, random_state=15)\n",
    "        \n",
    "        if skin_type == \"Normal\":\n",
    "            return {\n",
    "                \"product_name\" : product_names.to_list(),\n",
    "                \"product_image\" : self.df_normal[self.df_normal[\"name\"].isin(product_names.to_list())][\"img_source\"].to_list()\n",
    "            }\n",
    "        elif skin_type == \"Dry\":\n",
    "            return {\n",
    "                \"product_name\" : product_names.to_list(),\n",
    "                \"product_image\" : self.df_dry[self.df_dry[\"name\"].isin(product_names.to_list())][\"img_source\"].to_list()\n",
    "            }\n",
    "        else:\n",
    "            return {\n",
    "                \"product_name\" : product_names.to_list(),\n",
    "                \"product_image\" : self.df_oily[self.df_oily[\"name\"].isin(product_names.to_list())][\"img_source\"].to_list()\n",
    "            }"
   ]
  },
  {
   "cell_type": "code",
   "execution_count": 3,
   "metadata": {},
   "outputs": [],
   "source": [
    "rec = Recommender()"
   ]
  },
  {
   "cell_type": "code",
   "execution_count": 4,
   "metadata": {},
   "outputs": [],
   "source": [
    "df = rec.load_dataset(\"cosmetic_products.csv\")"
   ]
  },
  {
   "cell_type": "code",
   "execution_count": 5,
   "metadata": {},
   "outputs": [],
   "source": [
    "rec.make_dataset(df)"
   ]
  },
  {
   "cell_type": "code",
   "execution_count": 7,
   "metadata": {},
   "outputs": [
    {
     "name": "stdout",
     "output_type": "stream",
     "text": [
      "{'product_name': ['Resilience Lift Night Lifting/Firming Face and Neck Creme', 'Dramatically Different Hydrating Jelly', 'Noni Glow Face Oil', 'Midnight Secret Late Night Recovery Treatment'], 'product_image': ['https://www.sephora.com/productimages/sku/s2240331-main-zoom.jpg?imwidth=465', 'https://www.sephora.com/productimages/sku/s1818772-main-zoom.jpg?imwidth=465', 'https://www.sephora.com/productimages/sku/s1947878-main-zoom.jpg?imwidth=465', 'https://www.sephora.com/productimages/sku/s1991660-main-zoom.jpg?imwidth=465']}\n"
     ]
    }
   ],
   "source": [
    "print(rec.recommend_products(5, \"Normal\"))"
   ]
  },
  {
   "cell_type": "code",
   "execution_count": null,
   "metadata": {},
   "outputs": [],
   "source": []
  }
 ],
 "metadata": {
  "kernelspec": {
   "display_name": "base",
   "language": "python",
   "name": "python3"
  },
  "language_info": {
   "codemirror_mode": {
    "name": "ipython",
    "version": 3
   },
   "file_extension": ".py",
   "mimetype": "text/x-python",
   "name": "python",
   "nbconvert_exporter": "python",
   "pygments_lexer": "ipython3",
   "version": "3.8.8"
  },
  "orig_nbformat": 4
 },
 "nbformat": 4,
 "nbformat_minor": 2
}
